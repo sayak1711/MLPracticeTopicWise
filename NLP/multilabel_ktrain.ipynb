{
  "nbformat": 4,
  "nbformat_minor": 0,
  "metadata": {
    "colab": {
      "name": "multilabel_ktrain.ipynb",
      "provenance": [],
      "collapsed_sections": []
    },
    "kernelspec": {
      "name": "python3",
      "display_name": "Python 3"
    },
    "language_info": {
      "name": "python"
    },
    "accelerator": "GPU"
  },
  "cells": [
    {
      "cell_type": "code",
      "metadata": {
        "id": "O_9W9mEYxU0G"
      },
      "source": [
        "!pip install ktrain"
      ],
      "execution_count": null,
      "outputs": []
    },
    {
      "cell_type": "code",
      "metadata": {
        "id": "45HsCFp8xPxt"
      },
      "source": [
        "import ktrain\n",
        "from ktrain import text"
      ],
      "execution_count": null,
      "outputs": []
    },
    {
      "cell_type": "code",
      "metadata": {
        "colab": {
          "base_uri": "https://localhost:8080/",
          "height": 521
        },
        "id": "skMpG1idx2WV",
        "outputId": "1a2722f7-3ee3-4b18-d9cb-5ce8608416a4"
      },
      "source": [
        "DATA_PATH = 'corr_v4.csv'\n",
        "NUM_WORDS = 50000\n",
        "MAXLEN = 150\n",
        "(x_train, y_train), (x_test, y_test), preproc = text.texts_from_csv(DATA_PATH,\n",
        "                      'Description',\n",
        "                      label_columns = [\"# Neutral\", \"# Positive\", \"# Negative\"],\n",
        "                      val_filepath=None, # if None, 10% of data will be used for validation\n",
        "                      max_features=NUM_WORDS, maxlen=MAXLEN,\n",
        "                      preprocess_mode='bert')"
      ],
      "execution_count": null,
      "outputs": [
        {
          "output_type": "stream",
          "text": [
            "detected encoding: utf-8 (if wrong, set manually)\n",
            "['# Neutral', '# Positive', '# Negative']\n",
            "     # Neutral  # Positive  # Negative\n",
            "99           1           0           0\n",
            "46           1           0           0\n",
            "149          1           0           0\n",
            "42           0           1           0\n",
            "36           0           1           0\n",
            "['# Neutral', '# Positive', '# Negative']\n",
            "     # Neutral  # Positive  # Negative\n",
            "124          0           1           0\n",
            "109          0           0           1\n",
            "120          0           1           0\n",
            "144          1           0           0\n",
            "143          0           1           0\n",
            "downloading pretrained BERT model (uncased_L-12_H-768_A-12.zip)...\n",
            "[██████████████████████████████████████████████████]\n",
            "extracting pretrained BERT model...\n",
            "done.\n",
            "\n",
            "cleanup downloaded zip...\n",
            "done.\n",
            "\n",
            "preprocessing train...\n",
            "language: en\n"
          ],
          "name": "stdout"
        },
        {
          "output_type": "display_data",
          "data": {
            "text/html": [
              "done."
            ],
            "text/plain": [
              "<IPython.core.display.HTML object>"
            ]
          },
          "metadata": {
            "tags": []
          }
        },
        {
          "output_type": "stream",
          "text": [
            "Is Multi-Label? False\n",
            "preprocessing test...\n",
            "language: en\n"
          ],
          "name": "stdout"
        },
        {
          "output_type": "display_data",
          "data": {
            "text/html": [
              "done."
            ],
            "text/plain": [
              "<IPython.core.display.HTML object>"
            ]
          },
          "metadata": {
            "tags": []
          }
        }
      ]
    },
    {
      "cell_type": "code",
      "metadata": {
        "colab": {
          "base_uri": "https://localhost:8080/"
        },
        "id": "MvKrIWQNyVEr",
        "outputId": "b76367d8-9f32-4889-9fd4-5b3e3b4d562f"
      },
      "source": [
        "print(x_train[:3])#x_train.shape, y_train.shape, x_test.shape, y_test.shape)"
      ],
      "execution_count": null,
      "outputs": [
        {
          "output_type": "stream",
          "text": [
            "[array([[  101, 11404, 17712, ...,     0,     0,     0],\n",
            "       [  101,  7753,  1006, ...,     0,     0,     0],\n",
            "       [  101,  9422,  1998, ...,     0,     0,     0],\n",
            "       ...,\n",
            "       [  101,  2116,  2367, ...,     0,     0,     0],\n",
            "       [  101,  1999,  2755, ...,     0,     0,     0],\n",
            "       [  101,  1996,  2740, ...,     0,     0,     0]]), array([[0, 0, 0, ..., 0, 0, 0],\n",
            "       [0, 0, 0, ..., 0, 0, 0],\n",
            "       [0, 0, 0, ..., 0, 0, 0],\n",
            "       ...,\n",
            "       [0, 0, 0, ..., 0, 0, 0],\n",
            "       [0, 0, 0, ..., 0, 0, 0],\n",
            "       [0, 0, 0, ..., 0, 0, 0]])]\n"
          ],
          "name": "stdout"
        }
      ]
    },
    {
      "cell_type": "code",
      "metadata": {
        "colab": {
          "base_uri": "https://localhost:8080/"
        },
        "id": "1ifYYGUPy7wv",
        "outputId": "c88671fe-9ccc-4678-aeb3-9fcdde111d6b"
      },
      "source": [
        "text.print_text_classifiers()"
      ],
      "execution_count": null,
      "outputs": [
        {
          "output_type": "stream",
          "text": [
            "fasttext: a fastText-like model [http://arxiv.org/pdf/1607.01759.pdf]\n",
            "logreg: logistic regression using a trainable Embedding layer\n",
            "nbsvm: NBSVM model [http://www.aclweb.org/anthology/P12-2018]\n",
            "bigru: Bidirectional GRU with pretrained fasttext word vectors [https://fasttext.cc/docs/en/crawl-vectors.html]\n",
            "standard_gru: simple 2-layer GRU with randomly initialized embeddings\n",
            "bert: Bidirectional Encoder Representations from Transformers (BERT) from keras_bert [https://arxiv.org/abs/1810.04805]\n",
            "distilbert: distilled, smaller, and faster BERT from Hugging Face transformers [https://arxiv.org/abs/1910.01108]\n"
          ],
          "name": "stdout"
        }
      ]
    },
    {
      "cell_type": "code",
      "metadata": {
        "colab": {
          "base_uri": "https://localhost:8080/"
        },
        "id": "vNZa1YTWy9O7",
        "outputId": "081c808c-061b-4ac2-e9e2-0ffa55490a2b"
      },
      "source": [
        "model = text.text_classifier('bert', (x_train, y_train), preproc=preproc, multilabel=True)"
      ],
      "execution_count": null,
      "outputs": [
        {
          "output_type": "stream",
          "text": [
            "Is Multi-Label? True\n",
            "maxlen is 150\n",
            "done.\n"
          ],
          "name": "stdout"
        }
      ]
    },
    {
      "cell_type": "code",
      "metadata": {
        "id": "cFSqkVdJ0BL_"
      },
      "source": [
        "learner = ktrain.get_learner(model, train_data=(x_train, y_train), val_data=(x_test, y_test))"
      ],
      "execution_count": null,
      "outputs": []
    },
    {
      "cell_type": "code",
      "metadata": {
        "colab": {
          "base_uri": "https://localhost:8080/"
        },
        "id": "mIKQakBf0cr5",
        "outputId": "5710c15e-9f80-410c-91fb-29ed37b54c23"
      },
      "source": [
        "learner.lr_find()"
      ],
      "execution_count": null,
      "outputs": [
        {
          "output_type": "stream",
          "text": [
            "simulating training for different learning rates... this may take a few moments...\n"
          ],
          "name": "stdout"
        },
        {
          "output_type": "stream",
          "text": [
            "/usr/local/lib/python3.7/dist-packages/tensorflow/python/keras/utils/generic_utils.py:497: CustomMaskWarning: Custom mask layers require a config and must override get_config. When loading, the custom mask layer must be passed to the custom_objects argument.\n",
            "  category=CustomMaskWarning)\n",
            "/usr/local/lib/python3.7/dist-packages/ktrain/core.py:536: UserWarning: max_epochs is being set to 5 since steps per epoch is small. If you wish to estimate LR using more epochs, set max_epochs manually.\n",
            "  warnings.warn('max_epochs is being set to 5 since steps per epoch is small. ' +\\\n"
          ],
          "name": "stderr"
        },
        {
          "output_type": "stream",
          "text": [
            "Epoch 1/5\n",
            "5/5 [==============================] - 26s 1s/step - loss: 0.9596 - accuracy: 0.3617\n",
            "Epoch 2/5\n",
            "5/5 [==============================] - 5s 1s/step - loss: 0.8494 - accuracy: 0.3617\n",
            "Epoch 3/5\n",
            "5/5 [==============================] - 5s 1s/step - loss: 0.6351 - accuracy: 0.4184\n",
            "Epoch 4/5\n",
            "5/5 [==============================] - 5s 1s/step - loss: 2.4726 - accuracy: 0.3475\n",
            "Epoch 5/5\n",
            "5/5 [==============================] - 5s 1s/step - loss: 21.9866 - accuracy: 0.3688\n",
            "\n",
            "\n",
            "done.\n",
            "Please invoke the Learner.lr_plot() method to visually inspect the loss plot to help identify the maximal learning rate associated with falling loss.\n"
          ],
          "name": "stdout"
        }
      ]
    },
    {
      "cell_type": "code",
      "metadata": {
        "colab": {
          "base_uri": "https://localhost:8080/",
          "height": 283
        },
        "id": "seN69x4P0lN9",
        "outputId": "fb3911c4-b4f1-411c-a7f8-2991d8177206"
      },
      "source": [
        "learner.lr_plot()"
      ],
      "execution_count": null,
      "outputs": [
        {
          "output_type": "display_data",
          "data": {
            "image/png": "[encoded data removed]",
            "text/plain": [
              "<Figure size 432x288 with 1 Axes>"
            ]
          },
          "metadata": {
            "tags": [],
            "needs_background": "light"
          }
        }
      ]
    },
    {
      "cell_type": "code",
      "metadata": {
        "colab": {
          "base_uri": "https://localhost:8080/"
        },
        "id": "RtOFzipV0nan",
        "outputId": "1e29abcf-64da-4830-e24f-035e584450c3"
      },
      "source": [
        "learner.autofit(0.001)"
      ],
      "execution_count": null,
      "outputs": [
        {
          "output_type": "stream",
          "text": [
            "early_stopping automatically enabled at patience=5\n",
            "reduce_on_plateau automatically enabled at patience=2\n",
            "\n",
            "\n",
            "begin training using triangular learning rate policy with max lr of 0.001...\n",
            "Epoch 1/1024\n",
            "5/5 [==============================] - 26s 2s/step - loss: 0.7297 - accuracy: 0.3759 - val_loss: 0.6459 - val_accuracy: 0.1875\n",
            "Epoch 2/1024\n",
            "5/5 [==============================] - 6s 1s/step - loss: 0.6698 - accuracy: 0.3262 - val_loss: 1.1771 - val_accuracy: 0.1875\n",
            "Epoch 3/1024\n",
            "5/5 [==============================] - 6s 1s/step - loss: 0.6836 - accuracy: 0.4255 - val_loss: 0.6469 - val_accuracy: 0.1875\n",
            "\n",
            "Epoch 00003: Reducing Max LR on Plateau: new max lr will be 0.0005 (if not early_stopping).\n",
            "Epoch 4/1024\n",
            "5/5 [==============================] - 6s 1s/step - loss: 0.6585 - accuracy: 0.3759 - val_loss: 0.6154 - val_accuracy: 0.5625\n",
            "Epoch 5/1024\n",
            "5/5 [==============================] - 6s 1s/step - loss: 0.6425 - accuracy: 0.4610 - val_loss: 0.8194 - val_accuracy: 0.1875\n",
            "Epoch 6/1024\n",
            "5/5 [==============================] - 6s 1s/step - loss: 0.6641 - accuracy: 0.3546 - val_loss: 0.5893 - val_accuracy: 0.5625\n",
            "Epoch 7/1024\n",
            "5/5 [==============================] - 6s 1s/step - loss: 0.6514 - accuracy: 0.3830 - val_loss: 0.7246 - val_accuracy: 0.1875\n",
            "Epoch 8/1024\n",
            "5/5 [==============================] - 6s 1s/step - loss: 0.6412 - accuracy: 0.4255 - val_loss: 0.6686 - val_accuracy: 0.1875\n",
            "\n",
            "Epoch 00008: Reducing Max LR on Plateau: new max lr will be 0.00025 (if not early_stopping).\n",
            "Epoch 9/1024\n",
            "5/5 [==============================] - 6s 1s/step - loss: 0.6159 - accuracy: 0.4255 - val_loss: 0.6387 - val_accuracy: 0.1875\n",
            "Epoch 10/1024\n",
            "5/5 [==============================] - 6s 1s/step - loss: 0.5875 - accuracy: 0.6241 - val_loss: 0.9109 - val_accuracy: 0.1875\n",
            "\n",
            "Epoch 00010: Reducing Max LR on Plateau: new max lr will be 0.000125 (if not early_stopping).\n",
            "Epoch 11/1024\n",
            "5/5 [==============================] - 6s 1s/step - loss: 0.8158 - accuracy: 0.3404 - val_loss: 0.6783 - val_accuracy: 0.1875\n",
            "Restoring model weights from the end of the best epoch.\n",
            "Epoch 00011: early stopping\n",
            "Weights from best epoch have been loaded into model.\n"
          ],
          "name": "stdout"
        },
        {
          "output_type": "execute_result",
          "data": {
            "text/plain": [
              "<tensorflow.python.keras.callbacks.History at 0x7f0445a48650>"
            ]
          },
          "metadata": {
            "tags": []
          },
          "execution_count": 12
        }
      ]
    },
    {
      "cell_type": "code",
      "metadata": {
        "id": "0PfhOsf2Do26"
      },
      "source": [
        "predictor = ktrain.get_predictor(learner.model, preproc)"
      ],
      "execution_count": null,
      "outputs": []
    },
    {
      "cell_type": "code",
      "metadata": {
        "id": "f-Me-FREDs76"
      },
      "source": [
        "data = [ 'The major conclusion of these studies is that house prices depend positively on income per capita, wealth and population growth.']"
      ],
      "execution_count": null,
      "outputs": []
    },
    {
      "cell_type": "code",
      "metadata": {
        "colab": {
          "base_uri": "https://localhost:8080/"
        },
        "id": "g_r2AwqDDxdc",
        "outputId": "db04d687-a403-4c22-ef99-51b525637de3"
      },
      "source": [
        "predictor.predict(data)"
      ],
      "execution_count": null,
      "outputs": [
        {
          "output_type": "execute_result",
          "data": {
            "text/plain": [
              "[[('# Neutral', 0.29872268),\n",
              "  ('# Positive', 0.59985924),\n",
              "  ('# Negative', 0.22054927)]]"
            ]
          },
          "metadata": {
            "tags": []
          },
          "execution_count": 20
        }
      ]
    },
    {
      "cell_type": "code",
      "metadata": {
        "id": "Mz3sobRhRRn2"
      },
      "source": [
        ""
      ],
      "execution_count": null,
      "outputs": []
    }
  ]
}